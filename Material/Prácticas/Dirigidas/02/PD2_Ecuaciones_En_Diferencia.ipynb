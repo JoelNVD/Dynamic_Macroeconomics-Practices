{
  "nbformat": 4,
  "nbformat_minor": 0,
  "metadata": {
    "colab": {
      "name": "PD2: Ecuaciones En Diferencia.ipynb",
      "provenance": [],
      "collapsed_sections": []
    },
    "kernelspec": {
      "name": "python3",
      "display_name": "Python 3"
    },
    "language_info": {
      "name": "python"
    }
  },
  "cells": [
    {
      "cell_type": "markdown",
      "metadata": {
        "id": "fvlyetAWDGZt"
      },
      "source": [
        "---\n",
        "---\n",
        "# <center> **PRÁCTICA DIRIGIDA Nº2** <center>\n",
        "## <center> **Ecuaciones En Diferencias** <center>\n",
        "### <center> **Aplicaciones en Python** <center>\n",
        "---\n",
        "## Propósito: \n",
        "\n",
        "\n",
        "> Desarrollar ejercicios de Ecuaciones En Diferencia con el lenguaje Python\n",
        "\n",
        "\n",
        "\n",
        "## Autores:\n",
        "> Yun William Yu & Mate y así\n",
        "\n",
        "## Adaptación:\n",
        "Joel Nestor Vicencio Damian\n",
        "\n",
        "---\n",
        "---"
      ]
    },
    {
      "cell_type": "code",
      "metadata": {
        "id": "9cLkimBoDJwe"
      },
      "source": [
        "import matplotlib.pyplot as plt\n",
        "import numpy as np\n",
        "from clases import *"
      ],
      "execution_count": 38,
      "outputs": []
    },
    {
      "cell_type": "markdown",
      "metadata": {
        "id": "_NgSQdVNsxYe"
      },
      "source": [
        "# Ejercicio 1: Simular la dinámica de\n",
        "\n",
        "<a id='ecu1'></a>\n",
        "$$x_{t+1}=ax_t +b  \\tag{1}$$\n",
        "\n",
        "Para los siguientes datos\n",
        "* Monótona y divergente: $a = 7,\\quad b=16,\\quad y_{0}=5$\n",
        "* Monótona y convergente: $a = \\frac{1}{3},\\quad b=6,\\quad y_{0}=1$\n",
        "* Oscilante y divergente:  $a = -2,\\quad b=1,\\quad y_{0}=1$\n",
        "* Oscilante y convergente: $a = -\\frac{1}{4},\\quad b=5,\\quad y_{0}=2$\n",
        "\n",
        "\n"
      ]
    },
    {
      "cell_type": "markdown",
      "metadata": {
        "id": "h5Vh5ygatEaX"
      },
      "source": [
        "# Solución"
      ]
    },
    {
      "cell_type": "code",
      "metadata": {
        "id": "aGOPXDmsuQD1"
      },
      "source": [
        "def f(x,a,b):\n",
        "  return a*x +b"
      ],
      "execution_count": 62,
      "outputs": []
    },
    {
      "cell_type": "code",
      "metadata": {
        "id": "zqhJCspbupam"
      },
      "source": [
        "dina = dindis(x_0, lambda x : f(x,a=,b=), n)\n",
        "dina.plot_orbita(ee=True)"
      ],
      "execution_count": null,
      "outputs": []
    },
    {
      "cell_type": "markdown",
      "metadata": {
        "id": "PPi5--Rh2KGK"
      },
      "source": [
        "Extra: Simular la dinámica de\n",
        "\n",
        "<a id='ecu2'></a>\n",
        "$$x_{t+1}=cos(x_t) \\tag{2} $$\n",
        "\n",
        "- $x_0=1.4\\quad$,$\\quad n = 10$\n",
        "- $x_0=0.1\\quad$,$\\quad n = 10$"
      ]
    },
    {
      "cell_type": "code",
      "metadata": {
        "id": "WAnB3rnP2Otf"
      },
      "source": [
        "def f(x):\n",
        "  return np.cos(x)\n",
        "  \n",
        "#dindis(x_0,f,n)\n",
        "dinamica = dindis(1.4, f, 10)\n",
        "dinamica.plot_orbita(ee=True)\n",
        "ee = dinamica.ee()\n",
        "print('el estado estacionario es: ' + str(ee))\n",
        "\n",
        "dinamica = dindis(0.1, f, 10)\n",
        "dinamica.plot_orbita(ee=True)\n",
        "ee = dinamica.ee()\n",
        "print('el estado estacionario es: '+ str(ee))"
      ],
      "execution_count": null,
      "outputs": []
    },
    {
      "cell_type": "markdown",
      "metadata": {
        "id": "IYaiWuE_Ovmc"
      },
      "source": [
        "#Ejercicio 2: Desarrolle y muestre el diagrama de fases\n",
        "$y_{t} = \\frac{y_{t-1}}{2}+5 \\qquad, \\qquad y_{t} = y_{t-1}^{0.5} \\qquad, \\qquad y_{t} = y_{t-1}^{3} \\qquad, \\qquad y_{t} = y_{t-1}^{-0.25} \\qquad, \\qquad y_{t} = y_{t-1}^{-1.5}$"
      ]
    },
    {
      "cell_type": "markdown",
      "metadata": {
        "id": "2V0e7umqLQ4b"
      },
      "source": [
        "#Solución"
      ]
    },
    {
      "cell_type": "code",
      "metadata": {
        "id": "gn7R1kqX3UzE"
      },
      "source": [
        "def f(x,a,b):\n",
        "  return a*x+b\n",
        "\n",
        "dina = dindis(1, lambda x : f(x,a=-2,b=1), 10)\n",
        "dina.plot_orbita(ee=True)"
      ],
      "execution_count": null,
      "outputs": []
    },
    {
      "cell_type": "code",
      "metadata": {
        "id": "jOQcWb7hyvw3"
      },
      "source": [
        "#========================================================================\n",
        "# PARTE 1: Definir la ecuación en diferencial\n",
        "#========================================================================\n",
        "\n",
        "### 1.1 Ecuación\n",
        "def f(x):\n",
        "  return x**(-0.25)\n",
        "\n",
        "#========================================================================\n",
        "# PARTE 2: Graficar rectas\n",
        "#========================================================================\n",
        "\n",
        "### 2.1 Graficar un cuadro\n",
        "fig, ax = plt.subplots()\n",
        "ax.set_xlim(0,1.4)\n",
        "ax.set_ylim(0,2)\n",
        "ax.set_xlabel(\"X-axis\")\n",
        "ax.set_ylabel(\"Y-axis\")\n",
        "\n",
        "### 2.2 Recta de 45º\n",
        "ax.plot(np.arange(1000000)/10, np.arange(1000000)/10)\n",
        "\n",
        "### 2.3 Plotear la Curva\n",
        "ax.plot(np.arange(100)/10, [f(x) for x in np.arange(100)/10])\n",
        "\n",
        "#========================================================================\n",
        "# PARTE 3: Teleraña\n",
        "#========================================================================\n",
        "\n",
        "num_iter = 10                                    # Habrá 5 iteraciones\n",
        "x_0 = 0.4                                      # Donde parte la telaraña\n",
        "\n",
        "point_list = []                                 # Definamos una variable\n",
        "point_list.append((x_0, 0))                     # La variable y su valor inicial\n",
        "\n",
        "for i in range(num_iter):\n",
        "  x, y = point_list[-1]\n",
        "  y = f(x)\n",
        "  point_list.append((x, y))\n",
        "  x = y\n",
        "  point_list.append((x, y))\n",
        "point_list\n",
        "point_array = np.array(point_list)\n",
        "X, Y = point_array.T\n",
        "plt.rcParams[\"figure.figsize\"] = (15, 10)\n",
        "ax.plot(X, Y)"
      ],
      "execution_count": null,
      "outputs": []
    }
  ]
}